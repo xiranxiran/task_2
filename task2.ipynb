{
 "cells": [
  {
   "cell_type": "code",
   "execution_count": 21,
   "metadata": {},
   "outputs": [],
   "source": [
    "import re\n",
    "import nltk\n",
    "import string\n",
    "import numpy as np\n",
    "import pandas as pd\n",
    "import matplotlib.pyplot as plt\n",
    "from keras.layers import Dense, LSTM, Activation\n",
    "from keras.preprocessing.text import Tokenizer\n",
    "from keras.models import Sequential, load_model\n",
    "from keras.preprocessing.sequence import pad_sequences\n",
    "from keras.utils import to_categorical\n",
    "from keras.optimizers import Adam, RMSprop\n",
    "from unidecode import unidecode\n",
    "from keras.layers.embeddings import Embedding\n",
    "\n",
    "%matplotlib inline"
   ]
  },
  {
   "cell_type": "code",
   "execution_count": 2,
   "metadata": {},
   "outputs": [],
   "source": [
    "from nltk.tokenize import word_tokenize\n",
    "from nltk import bigrams, FreqDist\n",
    "from math import log"
   ]
  },
  {
   "cell_type": "code",
   "execution_count": 3,
   "metadata": {},
   "outputs": [],
   "source": [
    "import lyricsgenius\n",
    "\n",
    "genius = lyricsgenius.Genius(\"8C8ZjZRD9R1-ftPYBpLYAFya4dO71sB_6Q1ZJ5bgnLuTpxzqQl84NA9mW0HRJrIr\")\n",
    "\n",
    "genius.verbose = False # Turn off status messages\n",
    "genius.remove_section_headers = True # Remove section headers (e.g. [Chorus]) from lyrics when searching\n",
    "genius.skip_non_songs = False # Include hits thought to be non-songs (e.g. track lists)\n",
    "genius.excluded_terms = [\"(Remix)\", \"(Live)\"] # Exclude songs with these words in their title"
   ]
  },
  {
   "cell_type": "code",
   "execution_count": 4,
   "metadata": {},
   "outputs": [],
   "source": [
    "artist = genius.search_artist(\"Eminem\", max_songs=2)"
   ]
  },
  {
   "cell_type": "code",
   "execution_count": 5,
   "metadata": {
    "scrolled": true
   },
   "outputs": [
    {
     "name": "stdout",
     "output_type": "stream",
     "text": [
      "Lyrics_Eminem.txt already exists. Overwrite?\n",
      "(y/n): y\n",
      "Wrote `Lyrics_Eminem.txt`\n"
     ]
    }
   ],
   "source": [
    "artist.save_lyrics(extension='txt')"
   ]
  },
  {
   "cell_type": "code",
   "execution_count": 6,
   "metadata": {},
   "outputs": [],
   "source": [
    "# preprocessing data\n",
    "dataset = open(\"Lyrics_Eminem.txt\", 'r+')\n",
    "train_data = dataset.read().lower().replace(',',' ').replace('.',' ').replace('?',' ').replace('!',' ').replace(':',' ').replace(';',' ').replace('   ',' ').replace('/',' ').split(\"\\n\")"
   ]
  },
  {
   "cell_type": "code",
   "execution_count": 9,
   "metadata": {},
   "outputs": [],
   "source": [
    "#Here I uploaded one song \"Stan\" used as test data\n",
    "dataset2 = open(\"test_song.txt\", 'r+')\n",
    "test_data = dataset2.read().lower().replace(',',' ').replace('.',' ').replace('?',' ').replace('!',' ').replace(':',' ').replace(';',' ').replace('   ',' ').replace('/',' ').split(\"\\n\")"
   ]
  },
  {
   "cell_type": "markdown",
   "metadata": {},
   "source": [
    "### unigram\n",
    "1. smoothing method: add one\n",
    "2. In order to minimize the errors, when calculate perplexity, parameters converted into logarithm and then accumulated."
   ]
  },
  {
   "cell_type": "code",
   "execution_count": 10,
   "metadata": {},
   "outputs": [],
   "source": [
    "# Training\n",
    "unigramsDist = FreqDist()  # uni-gram词频数字典\n",
    "for i in train_data:\n",
    "    sWordFreq = FreqDist(word_tokenize(i))  # 每一句的词频数字典\n",
    "    for j in sWordFreq:\n",
    "        if j in unigramsDist:\n",
    "            unigramsDist[j] += sWordFreq[j]\n",
    "        else:\n",
    "            unigramsDist[j] = sWordFreq[j]"
   ]
  },
  {
   "cell_type": "code",
   "execution_count": 11,
   "metadata": {},
   "outputs": [],
   "source": [
    "# Testing\n",
    "# add words which not occur in test data set\n",
    "for i in test_data:\n",
    "    word = word_tokenize(i)  # dictionary (word frequency in each sentence)\n",
    "    for j in word:\n",
    "        if j not in unigramsDist:\n",
    "            unigramsDist[j] = 0"
   ]
  },
  {
   "cell_type": "code",
   "execution_count": 12,
   "metadata": {},
   "outputs": [],
   "source": [
    "# count to frequency  smoothing: add one # unigramsDist.B()\n",
    "s = unigramsDist.N() + unigramsDist.B()\n",
    "unigramsFreq = FreqDist()\n",
    "for i in unigramsDist:\n",
    "    unigramsFreq[i] = (unigramsDist[i] + 1) / s"
   ]
  },
  {
   "cell_type": "code",
   "execution_count": 13,
   "metadata": {},
   "outputs": [],
   "source": [
    "ppt = []\n",
    "for sentence in test_data:\n",
    "    logprob = 0\n",
    "    wt = 0\n",
    "    for word in word_tokenize(sentence):\n",
    "        if word in unigramsFreq:\n",
    "            logprob += log(unigramsFreq[word],2)\n",
    "            wt += 1\n",
    "    if wt > 0:\n",
    "        ppt.append([sentence,pow(2,-(logprob/wt))])"
   ]
  },
  {
   "cell_type": "code",
   "execution_count": 14,
   "metadata": {},
   "outputs": [
    {
     "name": "stdout",
     "output_type": "stream",
     "text": [
      "The perplexity of unigram is: 504.0672176830519\n"
     ]
    }
   ],
   "source": [
    "temp = 0\n",
    "for i in ppt:\n",
    "    temp += i[1]\n",
    "print(\"The perplexity of unigram is:\", temp/len(ppt))"
   ]
  },
  {
   "cell_type": "markdown",
   "metadata": {},
   "source": [
    "### bigram\n",
    "(same method as unigram)"
   ]
  },
  {
   "cell_type": "code",
   "execution_count": 15,
   "metadata": {},
   "outputs": [],
   "source": [
    "w2gram = {}     # all the number of 2-gram type words begin with 'w' \n",
    "bigramsDist = FreqDist()\n",
    "\n",
    "for sentence in train_data:\n",
    "    sWordFreq = FreqDist(bigrams(word_tokenize(sentence)))\n",
    "    for j in sWordFreq:\n",
    "        if j in bigramsDist:\n",
    "            bigramsDist[j] += sWordFreq[j]\n",
    "        else:\n",
    "            bigramsDist[j] = sWordFreq[j]\n",
    "            if j[0] in w2gram:\n",
    "                w2gram[j[0]] += 1\n",
    "            else:\n",
    "                w2gram[j[0]] = 1"
   ]
  },
  {
   "cell_type": "code",
   "execution_count": 16,
   "metadata": {},
   "outputs": [],
   "source": [
    "#test part\n",
    "for sentence in test_data:\n",
    "    word = bigrams(word_tokenize(sentence))\n",
    "    for j in word:\n",
    "        if j not in bigramsDist:\n",
    "            bigramsDist[j] = 0\n",
    "            \n",
    "            if j[0] in w2gram:\n",
    "                w2gram[j[0]] += 1\n",
    "            else:\n",
    "                w2gram[j[0]] = 1"
   ]
  },
  {
   "cell_type": "code",
   "execution_count": 17,
   "metadata": {},
   "outputs": [],
   "source": [
    "history = {}\n",
    "for i in bigramsDist:\n",
    "    if i[0] in history:\n",
    "        history[i[0]] += bigramsDist[i]\n",
    "    else:\n",
    "        history[i[0]] = bigramsDist[i]\n",
    "bigramsFreq = FreqDist()\n",
    "for i in bigramsDist:\n",
    "    bigramsFreq[i] = (bigramsDist[i] + 1) / (history[i[0]] + w2gram[i[0]])"
   ]
  },
  {
   "cell_type": "code",
   "execution_count": 18,
   "metadata": {},
   "outputs": [],
   "source": [
    "ppt2 = []\n",
    "for sentence in test_data:\n",
    "    logprob = 0\n",
    "    wt = 0\n",
    "    for word in bigrams(word_tokenize(sentence)):\n",
    "        if word in bigramsFreq:\n",
    "            logprob += log(bigramsFreq[word],2)\n",
    "            wt += 1\n",
    "    if wt > 0:\n",
    "        ppt2.append([sentence,pow(2,-(logprob/wt))])"
   ]
  },
  {
   "cell_type": "code",
   "execution_count": 20,
   "metadata": {},
   "outputs": [
    {
     "name": "stdout",
     "output_type": "stream",
     "text": [
      "The perplexity of bigram is: 13.312246352914487\n"
     ]
    }
   ],
   "source": [
    "temp2 = 0\n",
    "for i in ppt2:\n",
    "    temp2 += i[1]\n",
    "print(\"The perplexity of bigram is:\", temp2/len(ppt2))"
   ]
  },
  {
   "cell_type": "markdown",
   "metadata": {},
   "source": [
    "#### Conlusion\n",
    "As the result of the comparation of two models(unigram and bigram) with same smoothing method(add one), we can see that the perplexity of unigram is much better."
   ]
  },
  {
   "cell_type": "markdown",
   "metadata": {},
   "source": [
    "### Text generator"
   ]
  },
  {
   "cell_type": "code",
   "execution_count": 22,
   "metadata": {},
   "outputs": [],
   "source": [
    "artist_eminem = genius.search_artist(\"Eminem\", max_songs=30)"
   ]
  },
  {
   "cell_type": "code",
   "execution_count": 27,
   "metadata": {},
   "outputs": [],
   "source": [
    "#get 30 songs lyrics \n",
    "lyrics_lib = []\n",
    "for i in artist_eminem.songs:\n",
    "    lyrics_lib.append(i.lyrics)\n",
    "\n",
    "data=pd.DataFrame(lyrics_lib,columns=['text'])"
   ]
  },
  {
   "cell_type": "code",
   "execution_count": 28,
   "metadata": {},
   "outputs": [
    {
     "name": "stdout",
     "output_type": "stream",
     "text": [
      "total length is: 137672\n"
     ]
    }
   ],
   "source": [
    "text = ''\n",
    "for index, row in data['text'].iteritems():\n",
    "    cleaned = str(row).lower().replace(' ', '\\n')\n",
    "    text = text + \" \".join(re.findall(r\"[a-z']+\", cleaned))\n",
    "print('total length is:', len(text))"
   ]
  },
  {
   "cell_type": "code",
   "execution_count": 29,
   "metadata": {},
   "outputs": [
    {
     "name": "stdout",
     "output_type": "stream",
     "text": [
      "total chars: 28\n"
     ]
    }
   ],
   "source": [
    "tokens = re.findall(r\"[a-z'\\s]\", text)\n",
    "\n",
    "chars = sorted(list(set(tokens)))\n",
    "print('total chars:', len(chars))\n",
    "char_indices = dict((c, i) for i, c in enumerate(chars))\n",
    "indices_char = dict((i, c) for i, c in enumerate(chars))"
   ]
  },
  {
   "cell_type": "code",
   "execution_count": 30,
   "metadata": {},
   "outputs": [
    {
     "name": "stdout",
     "output_type": "stream",
     "text": [
      "nb sequences: 45878\n"
     ]
    }
   ],
   "source": [
    "# cut the text in semi-redundant sequences of maxlen characters\n",
    "maxlen = 40\n",
    "step = 3\n",
    "sentences = []\n",
    "next_chars = []\n",
    "\n",
    "for i in range(0, len(text) - maxlen, step):\n",
    "    sentences.append(text[i: i + maxlen])\n",
    "    next_chars.append(text[i + maxlen])\n",
    "    \n",
    "print('nb sequences:', len(sentences))"
   ]
  },
  {
   "cell_type": "code",
   "execution_count": 31,
   "metadata": {},
   "outputs": [],
   "source": [
    "#Vectorization\n",
    "x = np.zeros((len(sentences), maxlen, len(chars)), dtype=np.bool)\n",
    "y = np.zeros((len(sentences), len(chars)), dtype=np.bool)\n",
    "\n",
    "for i, sentence in enumerate(sentences):\n",
    "    for t, char in enumerate(sentence):\n",
    "        x[i, t, char_indices[char]] = 1\n",
    "    y[i, char_indices[next_chars[i]]] = 1"
   ]
  },
  {
   "cell_type": "code",
   "execution_count": 32,
   "metadata": {},
   "outputs": [],
   "source": [
    "model = Sequential()\n",
    "model.add(LSTM(128, input_shape=(maxlen, len(chars))))\n",
    "model.add(Dense(len(chars)))\n",
    "model.add(Activation('softmax'))\n",
    "\n",
    "model.compile(loss='categorical_crossentropy', optimizer=RMSprop(lr=0.01))"
   ]
  },
  {
   "cell_type": "code",
   "execution_count": 33,
   "metadata": {},
   "outputs": [
    {
     "name": "stdout",
     "output_type": "stream",
     "text": [
      "Model: \"sequential_1\"\n",
      "_________________________________________________________________\n",
      "Layer (type)                 Output Shape              Param #   \n",
      "=================================================================\n",
      "lstm_1 (LSTM)                (None, 128)               80384     \n",
      "_________________________________________________________________\n",
      "dense_1 (Dense)              (None, 28)                3612      \n",
      "_________________________________________________________________\n",
      "activation_1 (Activation)    (None, 28)                0         \n",
      "=================================================================\n",
      "Total params: 83,996\n",
      "Trainable params: 83,996\n",
      "Non-trainable params: 0\n",
      "_________________________________________________________________\n"
     ]
    }
   ],
   "source": [
    "model.summary()"
   ]
  },
  {
   "cell_type": "code",
   "execution_count": 34,
   "metadata": {},
   "outputs": [],
   "source": [
    "def sample(preds, temperature=1.0):\n",
    "    preds = np.asarray(preds).astype('float64')\n",
    "    preds = np.log(preds) / temperature\n",
    "    exp_preds = np.exp(preds)\n",
    "    preds = exp_preds / np.sum(exp_preds)\n",
    "    probas = np.random.multinomial(1, preds, 1)\n",
    "    return np.argmax(probas)"
   ]
  },
  {
   "cell_type": "code",
   "execution_count": 43,
   "metadata": {},
   "outputs": [],
   "source": [
    "def on_epoch_end(epoch, logs):\n",
    "    print('----- Generating text after Epoch: %d' % epoch)\n",
    "\n",
    "    start_index = random.randint(0, len(text) - maxlen - 1)\n",
    "    for diversity in [0.2, 0.5]:\n",
    "        print('----- diversity:', diversity)\n",
    "\n",
    "        generated = ''\n",
    "        sentence = text[start_index: start_index + maxlen]\n",
    "        generated += sentence\n",
    "        print('----- Generating with seed: \"' + sentence + '\"')\n",
    "        sys.stdout.write(generated)\n",
    "\n",
    "        for i in range(400):\n",
    "            x_pred = np.zeros((1, maxlen, len(chars)))\n",
    "            for t, char in enumerate(sentence):\n",
    "                x_pred[0, t, char_indices[char]] = 1.\n",
    "\n",
    "            preds = model.predict(x_pred, verbose=0)[0]\n",
    "            next_index = sample(preds, diversity)\n",
    "            next_char = indices_char[next_index]\n",
    "\n",
    "            generated += next_char\n",
    "            sentence = sentence[1:] + next_char\n",
    "\n",
    "            sys.stdout.write(next_char)\n",
    "            sys.stdout.flush()\n",
    "        print()"
   ]
  },
  {
   "cell_type": "code",
   "execution_count": 44,
   "metadata": {
    "scrolled": true
   },
   "outputs": [
    {
     "name": "stdout",
     "output_type": "stream",
     "text": [
      "Epoch 1/10\n",
      "45878/45878 [==============================] - 51s 1ms/step - loss: 1.1107\n",
      "----- Generating text after Epoch: 0\n",
      "----- diversity: 0.2\n",
      "----- Generating with seed: \"t like tree sap i don't hate trap and i \"\n",
      "t like tree sap i don't hate trap and i don't fall in the fuck watch when i don't see we are just come take it but your can call me and i can face tang a cread we call me no mar ir come tank and i trink it say i'm still bely get your gursed in the balls ind well you seem the muck wath we have in the call me want shady to say to the miss your chance to the balls on of you like it was me then i take it the bad in the real slim shady yes i\n",
      "----- diversity: 0.5\n",
      "----- Generating with seed: \"t like tree sap i don't hate trap and i \"\n",
      "t like tree sap i don't hate trap and i don't see un a firtin' to see with the rider with the versut out here to the muck's say i'm half you i don't do bagged like the lighty balk and i'm stall like it's wasn and everything that i ain't gonna bound and i don't wanna smoke and you ind i think it feels stupp streman she's not so bad 'cause i never lose your and i'm bronive and i'm prayled to again eath other the fuck in this minst that sh\n",
      "Epoch 2/10\n",
      "45878/45878 [==============================] - 44s 967us/step - loss: 1.0904\n",
      "----- Generating text after Epoch: 1\n",
      "----- diversity: 0.2\n",
      "----- Generating with seed: \"t what was i just about to say oh yeah l\"\n",
      "t what was i just about to say oh yeah like i'm the best to get a play the world get fucked just the way it warn of the moment of a trade i this shit is i don't want to as i can and i tasking a this monster and i got the world gr she late and shoot your lacks and i don't want to ya the bad i don't get stim the moment of a trade to be the best the way it warn your seem the moment of a trade i'm a this to the bad i feel i got the world ge\n",
      "----- diversity: 0.5\n",
      "----- Generating with seed: \"t what was i just about to say oh yeah l\"\n",
      "t what was i just about to say oh yeah like put a hap in the morthing i got up in a tered me but i don't mare of the begroest a mon and i'm not afraid in my face me on the begest some better never resentle cranged the compan purkin' like a fucked bit is scap to fell of stop and so this shit i wanna son' love me with a chan it take me like a winders when it's too my fag and i can face on everyone fack fack on word and i'm a duce not i wa\n",
      "Epoch 3/10\n",
      "45878/45878 [==============================] - 44s 953us/step - loss: 1.0756\n",
      "----- Generating text after Epoch: 2\n",
      "----- diversity: 0.2\n",
      "----- Generating with seed: \"s screamin' l l l let us in l l l like a\"\n",
      "s screamin' l l l let us in l l l like a amagable i'm a dicause i love the with the more that i'm the first we don't the mornams i don't slipp and shady play they say i'm the fuck i ain't gonna smoke my but a this i don't slip a cont and say i don't slipp and i can case the bad for the way that you're bitter i love the way they say i'm the flow i done with the real shady play the but i wante that you're beit i singed that the though is \n",
      "----- diversity: 0.5\n",
      "----- Generating with seed: \"s screamin' l l l let us in l l l like a\"\n",
      "s screamin' l l l let us in l l l like a sings they parks to walk the deam and i can't see me the chollars i know i'l the dan't even calle stand to say that you think i'm crazy it say i'ma have to smy everythings i ain't slyep a are for the side i was mon the though the move my parkla seem and i every way the spand the world greatest in the world greatest in the with the down i ain't gonna do i let me got right no mord so i don't slipp \n",
      "Epoch 4/10\n",
      "45878/45878 [==============================] - 44s 952us/step - loss: 1.0622\n",
      "----- Generating text after Epoch: 3\n",
      "----- diversity: 0.2\n",
      "----- Generating with seed: \" it's in my grasp but as soon as i grab \"\n",
      " it's in my grasp but as soon as i grab but it i'm beand i'm not knowin' me and i'm not knowin' of you starts to my back and i'm gone to say to me to say i groud to see i need so everything i got a rubort i'm a thing and scary on a to the mise the shit's side i'm passel i'm gonna rele bit of all the shit's be and i think i'm sick at it i got a fuckin' this i know that i'm side i'm sookion the moment to the back it so be the same realize\n",
      "----- diversity: 0.5\n",
      "----- Generating with seed: \" it's in my grasp but as soon as i grab \"\n",
      " it's in my grasp but as soon as i grab but your come to the world get on the beat like you off it's my jobics the fuck it we cause it was to say the nem and i'm gone to say you don't feel like i ain't the fack of sucfels and i ond you maning all they get in my back in the fuck i ain't no jee s on the minith and i can be all the sappolest the tonggury that i got the sting it and and i'm not knowin' for but i slip i ain't gon't want it t\n",
      "Epoch 5/10\n",
      "45878/45878 [==============================] - 44s 954us/step - loss: 1.0425\n",
      "----- Generating text after Epoch: 4\n",
      "----- diversity: 0.2\n",
      "----- Generating with seed: \"motherfucker like the last motherfucker \"\n",
      "motherfucker like the last motherfucker say that you can't all it all i don't fall on my back and i can't she dear to ask in my bast in the back like a fuckin' starts to all the mation i can't see you ain't eakin' so baby don't all the best to see what i was bee all the bling to all the mation i say the wall that shit back in the moment when i was but you to shet i'm sired i can't see at me to see what i have to say to get your chance t\n",
      "----- diversity: 0.5\n",
      "----- Generating with seed: \"motherfucker like the last motherfucker \"\n",
      "motherfucker like the last motherfucker say that me but left and i high this moment when it before i love me to sold on my comestin' me that it's still to say that marning around there the way to see all the real slim shady please stand up and when it was me this is the thoughts i hate to be the bad feel me but i got to be the best all i was but he call maybed i was badn' and i'm sidy with that me and i'll get that shit gonna slowin' so\n",
      "Epoch 6/10\n",
      "45878/45878 [==============================] - 46s 1ms/step - loss: 1.0375\n",
      "----- Generating text after Epoch: 5\n",
      "----- diversity: 0.2\n",
      "----- Generating with seed: \"be in my genes i got a laptop in my back\"\n",
      "be in my genes i got a laptop in my back i got the trung well that you could try in a poshin' the bar got a chanch thing back to dear the trung before i'm a thing i don't slim shady all a all and screamin' my fack on everyone fack fack on everyone yoke and i told your dame a follorin' my feet a fuckin' screamin' and i can tell your dammy wrotter what i get the way that you ain't gonna do i don't do what i get the chairstand a chance to \n",
      "----- diversity: 0.5\n",
      "----- Generating with seed: \"be in my genes i got a laptop in my back\"\n",
      "be in my genes i got a laptop in my back on the way that you to see a playin' i hate to fack on my fack on my fack it i'm straid and say i hate to be the blow about of drowntenge and the grankt i might a chant they get bit of a thie s and say i feel your tange standing the tenemiss sayin' anymay' and i'm gray and i'm gone to take a flompted of just and was and played and so the minst to fack on my fack in the chap you say i get your mon\n",
      "Epoch 7/10\n",
      "45878/45878 [==============================] - 44s 964us/step - loss: 1.0255\n",
      "----- Generating text after Epoch: 6\n",
      "----- diversity: 0.2\n",
      "----- Generating with seed: \"ble big trouble and if he is as bananas \"\n",
      "ble big trouble and if he is as bananas the straights simestit's back to show you can sack and you buine and this shit my lift to be the best the world greatestes and if you could never say i could just but i got the couple stands i can't even shit it and i could was but i got that i was ter this is the rap like a brool and i can feel it and if i walk on waitens but i got some comem not they say i'm sidevaser and it to the motherfuckers\n",
      "----- diversity: 0.5\n",
      "----- Generating with seed: \"ble big trouble and if he is as bananas \"\n"
     ]
    },
    {
     "name": "stdout",
     "output_type": "stream",
     "text": [
      "ble big trouble and if he is as bananas the shit it's too bad knowly get it all and you can and newreally while i go see what they from the dreat and i can case out to feel your stim i realed all that i shit it's too still into everyobooty hardge to see worse where i was bah you and you can s not this mar 'ear as a tand the rap they was to bround it and you but 'til the reatter i don't stup a poround it my but i sourd to me from me the \n",
      "Epoch 8/10\n",
      "45878/45878 [==============================] - 42s 920us/step - loss: 1.0173\n",
      "----- Generating text after Epoch: 7\n",
      "----- diversity: 0.2\n",
      "----- Generating with seed: \"asy on you not to hurt your feelings but\"\n",
      "asy on you not to hurt your feelings but i'm a firt to be the real slim shady shout out and i can't she dead to be can't shut her hanger and so it the bat i ain't no jee shite in my back in that you don't slike to make an everybody gooball the moment i'm the bad fuck the shout to go get sound the shone to feel like to do was the more to my feet me like an my fines when it to say this shit to say this shit that i got some to get your and\n",
      "----- diversity: 0.5\n",
      "----- Generating with seed: \"asy on you not to hurt your feelings but\"\n",
      "asy on you not to hurt your feelings but i slie she deered i spot the slund shout to go she rock called be my comentin' that miss you to say you through the stants don't fall on my fan clown and grow and i can't she dead to take the back like a warnan you can sitce rick one there back in one ho way 'cause you're gonna gad to be the real slim shady slesply you the latter to you live me these sliep with a chapter i'm sookin' to fack on me\n",
      "Epoch 9/10\n",
      "45878/45878 [==============================] - 43s 930us/step - loss: 1.0069\n",
      "----- Generating text after Epoch: 8\n",
      "----- diversity: 0.2\n",
      "----- Generating with seed: \" for broke so everybody everybody go ber\"\n",
      " for broke so everybody everybody go berate like a stand the bad is the bad what's when i was back to the world greate to know that i say what's when i was bet and never do it the colute the couple stiting to and say i got a fuckin' like i wanna sightunaness without the sting and say i got that's why it's back to that i have to get to get the shit that's why i'm still time i gring the matter and so i have to get the shit that's when i w\n",
      "----- diversity: 0.5\n",
      "----- Generating with seed: \" for broke so everybody everybody go ber\"\n",
      " for broke so everybody everybody go berate like a mighter but i sururd i only go back of you got that's how much we wainabaca to that you daddy woo sound my back to that mindtinges and paill and i can't be the real slimis and that's when i hate the back like s one up in the real slim shady playe i'm god the crews who she lone who we arjond me with some don't mare that's how much we we we waytes contross i feel like i wanter this minnic\n",
      "Epoch 10/10\n",
      "45878/45878 [==============================] - 43s 928us/step - loss: 0.9987\n",
      "----- Generating text after Epoch: 9\n",
      "----- diversity: 0.2\n",
      "----- Generating with seed: \"thers oh what a tangled web we have caus\"\n",
      "thers oh what a tangled web we have cause up with a chance back up in this moment like a moman when i'm gone the stantin' to ask i take a ponther what i have to be the best to see with a chaich that's when i may bane mate about as i have to be the really so that i say that as i high as go one the way that you'll be one mommant to the minuth and the couple stand the thought of bed and i take a couple stand up what i think and i could not\n",
      "----- diversity: 0.5\n",
      "----- Generating with seed: \"thers oh what a tangled web we have caus\"\n",
      "thers oh what a tangled web we have cause i got a chanchtyou're gonna rould go the way to wanna stard and to that i said here the back lilk a fuckin' been a colliv i'm sinde and nom he armon a stand the real slim shady yeah i said here man and they so i hate the moment of me the way that you set the way that i'm sobody come nom and i don't know what he gett ling just the shit that you're marhe one house i got a warturted in a tout a tak\n"
     ]
    }
   ],
   "source": [
    "from __future__ import print_function\n",
    "from keras.callbacks import LambdaCallback\n",
    "import random\n",
    "import sys\n",
    "import io\n",
    "\n",
    "print_callback = LambdaCallback(on_epoch_end=on_epoch_end)\n",
    "\n",
    "history = model.fit(\n",
    "    x, \n",
    "    y,\n",
    "    batch_size=128,\n",
    "    epochs=10,\n",
    "    callbacks=[print_callback]\n",
    ")"
   ]
  },
  {
   "cell_type": "code",
   "execution_count": 46,
   "metadata": {},
   "outputs": [
    {
     "data": {
      "text/plain": [
       "[<matplotlib.lines.Line2D at 0x1a475f0c10>]"
      ]
     },
     "execution_count": 46,
     "metadata": {},
     "output_type": "execute_result"
    },
    {
     "data": {
      "image/png": "[encoded data removed]",
      "text/plain": [
       "<Figure size 432x288 with 1 Axes>"
      ]
     },
     "metadata": {
      "needs_background": "light"
     },
     "output_type": "display_data"
    }
   ],
   "source": [
    "import matplotlib.pyplot as plt\n",
    "%matplotlib inline\n",
    "\n",
    "plt.plot(history.history['loss'])"
   ]
  },
  {
   "cell_type": "code",
   "execution_count": 47,
   "metadata": {},
   "outputs": [],
   "source": [
    "def generate_output():\n",
    "    generated = ''\n",
    "    usr_input = input(\"Write down anything you want: \")\n",
    "\n",
    "    sentence = ('{0:0>' + str(Tx) + '}').format(usr_input).lower()\n",
    "    generated += usr_input \n",
    "\n",
    "    sys.stdout.write(\"\\n\\nHere is your fake Eminem song: \\n\\n\") \n",
    "    sys.stdout.write(usr_input)\n",
    "    for i in range(1000):\n",
    "\n",
    "        x_pred = np.zeros((1, Tx, len(chars)))\n",
    "\n",
    "        for t, char in enumerate(sentence):\n",
    "            if char != '0':\n",
    "                x_pred[0, t, char_indices[char]] = 1.\n",
    "\n",
    "        preds = model.predict(x_pred, verbose=0)[0]\n",
    "        next_index = sample(preds, temperature = 0.2)\n",
    "        next_char = indices_char[next_index]\n",
    "\n",
    "        generated += next_char\n",
    "        sentence = sentence[1:] + next_char\n",
    "\n",
    "        sys.stdout.write(next_char)\n",
    "        sys.stdout.flush()\n",
    "\n",
    "        if next_char == '\\n':\n",
    "            continue"
   ]
  },
  {
   "cell_type": "code",
   "execution_count": 48,
   "metadata": {},
   "outputs": [
    {
     "name": "stdout",
     "output_type": "stream",
     "text": [
      "Write down anything you want: love the way you lie\n",
      "\n",
      "\n",
      "Here is your fake Eminem song: \n",
      "\n",
      "love the way you lie i love the way to let you hate to go we how me hold your can't shead and i take a couple stand up what i the couple when i'm gone could 'bout to go and i coul a tanged that shit i got a chanchts what i the matter i have to be the best to see with this mounk of nove of you massed me off all i don't know what he get to be the matter and so that i'm scarin' to say you can't see up and i can't see up and the couple stand the world get me one when i was not so bad in on my fath c moman call on my fatter that's where the shill on the same really so that i say that you have the way that i'm right i hate to the man but i got a chanchty as a roll you was just i got a chance back in this man that i can't see up and so that you'll be and i come me that i say that i the real slim shady please stand up but i got a chanchty call my lift as with a chaster and to that i can't see up and sound the way that you can't shealy up and the greatest when i'm gonna said your pain think i got a way the way tha"
     ]
    }
   ],
   "source": [
    "Tx = 40\n",
    "generate_output()"
   ]
  },
  {
   "cell_type": "markdown",
   "metadata": {},
   "source": [
    "#### Conclusion:\n",
    "1. Loss value decreased gradually with learning process\n",
    "2. In general, the lyrics written by the text generator are still not human-like. \n",
    "   Possible reasons such as not enough learning data(I only use 30 songs, but that is maxium for my conputer to train), epoch also is too small, etc."
   ]
  },
  {
   "cell_type": "code",
   "execution_count": null,
   "metadata": {},
   "outputs": [],
   "source": []
  }
 ],
 "metadata": {
  "kernelspec": {
   "display_name": "Python 3",
   "language": "python",
   "name": "python3"
  },
  "language_info": {
   "codemirror_mode": {
    "name": "ipython",
    "version": 3
   },
   "file_extension": ".py",
   "mimetype": "text/x-python",
   "name": "python",
   "nbconvert_exporter": "python",
   "pygments_lexer": "ipython3",
   "version": "3.7.4"
  }
 },
 "nbformat": 4,
 "nbformat_minor": 2
}
